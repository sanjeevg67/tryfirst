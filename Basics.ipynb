{
 "cells": [
  {
   "cell_type": "code",
   "execution_count": 2,
   "metadata": {
    "collapsed": false
   },
   "outputs": [
    {
     "name": "stdout",
     "output_type": "stream",
     "text": [
      "year,month,date_of_month,day_of_week,births\n",
      "1994,1,1,6,8096\n",
      "1994,1,2,7,7772\n",
      "1994,1,3,1,10142\n",
      "1994,1,\n"
     ]
    }
   ],
   "source": [
    "f=open(\"births.csv\", \"r\")\n",
    "text=f.read()\n",
    "print (text [0:100])"
   ]
  },
  {
   "cell_type": "code",
   "execution_count": 3,
   "metadata": {
    "collapsed": false
   },
   "outputs": [
    {
     "name": "stdout",
     "output_type": "stream",
     "text": [
      "['year,month,date_of_month,day_of_week,births', '1994,1,1,6,8096', '1994,1,2,7,7772', '1994,1,3,1,10142', '1994,1,4,2,11248', '1994,1,5,3,11053', '1994,1,6,4,11406', '1994,1,7,5,11251', '1994,1,8,6,8653', '1994,1,9,7,7910', '1994,1,10,1,10498', '1994,1,11,2,11706', '1994,1,12,3,11567', '1994,1,13,4,11212', '1994,1,14,5,11570', '1994,1,15,6,8660', '1994,1,16,7,8123', '1994,1,17,1,10567', '1994,1,18,2,11541', '1994,1,19,3,11257', '1994,1,20,4,11682', '1994,1,21,5,11811', '1994,1,22,6,8833', '1994,1,23,7,8310', '1994,1,24,1,11125', '1994,1,25,2,11981', '1994,1,26,3,11514', '1994,1,27,4,11702', '1994,1,28,5,11666', '1994,1,29,6,8988', '1994,1,30,7,8096', '1994,1,31,1,10765', '1994,2,1,2,11755', '1994,2,2,3,11483', '1994,2,3,4,11523', '1994,2,4,5,11677', '1994,2,5,6,8991', '1994,2,6,7,8309', '1994,2,7,1,10984', '1994,2,8,2,12152', '1994,2,9,3,11515', '1994,2,10,4,11623', '1994,2,11,5,11517', '1994,2,12,6,8945', '1994,2,13,7,8171', '1994,2,14,1,11551', '1994,2,15,2,12164', '1994,2,16,3,12009', '1994,2,17,4,11674', '1994,2,18,5,11887']\n"
     ]
    }
   ],
   "source": [
    "new_list=text.split('\\n')\n",
    "print (new_list [0:50])"
   ]
  },
  {
   "cell_type": "code",
   "execution_count": 4,
   "metadata": {
    "collapsed": false
   },
   "outputs": [
    {
     "name": "stdout",
     "output_type": "stream",
     "text": [
      "3653\n"
     ]
    }
   ],
   "source": [
    "print (len(new_list))"
   ]
  },
  {
   "cell_type": "code",
   "execution_count": 5,
   "metadata": {
    "collapsed": false
   },
   "outputs": [
    {
     "name": "stdout",
     "output_type": "stream",
     "text": [
      "['year,month,date_of_month,day_of_week,births', '1994,1,1,6,8096', '1994,1,2,7,7772', '1994,1,3,1,10142', '1994,1,4,2,11248']\n"
     ]
    }
   ],
   "source": [
    "print (new_list [0:5])"
   ]
  },
  {
   "cell_type": "code",
   "execution_count": 9,
   "metadata": {
    "collapsed": false
   },
   "outputs": [
    {
     "ename": "SyntaxError",
     "evalue": "can't assign to operator (<ipython-input-9-18acf5dca4d4>, line 10)",
     "output_type": "error",
     "traceback": [
      "\u001b[1;36m  File \u001b[1;32m\"<ipython-input-9-18acf5dca4d4>\"\u001b[1;36m, line \u001b[1;32m10\u001b[0m\n\u001b[1;33m    week-day=row[3]\u001b[0m\n\u001b[1;37m    ^\u001b[0m\n\u001b[1;31mSyntaxError\u001b[0m\u001b[1;31m:\u001b[0m can't assign to operator\n"
     ]
    }
   ],
   "source": [
    "days_count = {}\n",
    "new_list = new_list [1:(len(new_list)-1)]\n",
    "print (new_list [0:2])\n",
    "expanded_list = []\n",
    "for row in new_list:\n",
    "    row_list=row.split(',')\n",
    "    expanded_list.append (row_list)\n",
    "    \n",
    "for row in expanded_list:\n",
    "    week_day=row[3]\n",
    "    if week_day in days_count:\n",
    "        days_count [week_day] = days_count[week_day]+1\n",
    "    else:\n",
    "        days_count [week_day]=1\n",
    "        \n",
    "print (days_count)\n",
    "        "
   ]
  },
  {
   "cell_type": "code",
   "execution_count": null,
   "metadata": {
    "collapsed": true
   },
   "outputs": [],
   "source": []
  }
 ],
 "metadata": {
  "anaconda-cloud": {},
  "kernelspec": {
   "display_name": "Python 3",
   "language": "python",
   "name": "python3"
  },
  "language_info": {
   "codemirror_mode": {
    "name": "ipython",
    "version": 3
   },
   "file_extension": ".py",
   "mimetype": "text/x-python",
   "name": "python",
   "nbconvert_exporter": "python",
   "pygments_lexer": "ipython3",
   "version": "3.4.3"
  }
 },
 "nbformat": 4,
 "nbformat_minor": 1
}
